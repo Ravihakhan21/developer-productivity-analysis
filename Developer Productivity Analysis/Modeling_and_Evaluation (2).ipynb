{
  "nbformat": 4,
  "nbformat_minor": 0,
  "metadata": {
    "colab": {
      "provenance": []
    },
    "kernelspec": {
      "name": "python3",
      "display_name": "Python 3"
    },
    "language_info": {
      "name": "python"
    }
  },
  "cells": [
    {
      "cell_type": "markdown",
      "source": [
        "Developer Productivity Analysis\n"
      ],
      "metadata": {
        "id": "hNhs8ivvEPUq"
      }
    },
    {
      "cell_type": "markdown",
      "source": [
        "Task 1: Predict Task Success"
      ],
      "metadata": {
        "id": "2Is5w6pjERQ2"
      }
    },
    {
      "cell_type": "markdown",
      "source": [
        "1.1 Dataset Loading and Preprocessing\n"
      ],
      "metadata": {
        "id": "UKhxtBj1EaRE"
      }
    },
    {
      "cell_type": "code",
      "source": [
        "from google.colab import files\n",
        "uploaded = files.upload()\n"
      ],
      "metadata": {
        "colab": {
          "base_uri": "https://localhost:8080/",
          "height": 71
        },
        "id": "TZLwas-njh5G",
        "outputId": "d6bb1d4f-adbb-46fe-ba0f-ff7f2c3bd15c"
      },
      "execution_count": null,
      "outputs": [
        {
          "output_type": "display_data",
          "data": {
            "text/plain": [
              "<IPython.core.display.HTML object>"
            ],
            "text/html": [
              "\n",
              "     <input type=\"file\" id=\"files-53cd17d8-5f7e-4e30-a395-ed7a99809a3b\" name=\"files[]\" multiple disabled\n",
              "        style=\"border:none\" />\n",
              "     <output id=\"result-53cd17d8-5f7e-4e30-a395-ed7a99809a3b\">\n",
              "      Upload widget is only available when the cell has been executed in the\n",
              "      current browser session. Please rerun this cell to enable.\n",
              "      </output>\n",
              "      <script>// Copyright 2017 Google LLC\n",
              "//\n",
              "// Licensed under the Apache License, Version 2.0 (the \"License\");\n",
              "// you may not use this file except in compliance with the License.\n",
              "// You may obtain a copy of the License at\n",
              "//\n",
              "//      http://www.apache.org/licenses/LICENSE-2.0\n",
              "//\n",
              "// Unless required by applicable law or agreed to in writing, software\n",
              "// distributed under the License is distributed on an \"AS IS\" BASIS,\n",
              "// WITHOUT WARRANTIES OR CONDITIONS OF ANY KIND, either express or implied.\n",
              "// See the License for the specific language governing permissions and\n",
              "// limitations under the License.\n",
              "\n",
              "/**\n",
              " * @fileoverview Helpers for google.colab Python module.\n",
              " */\n",
              "(function(scope) {\n",
              "function span(text, styleAttributes = {}) {\n",
              "  const element = document.createElement('span');\n",
              "  element.textContent = text;\n",
              "  for (const key of Object.keys(styleAttributes)) {\n",
              "    element.style[key] = styleAttributes[key];\n",
              "  }\n",
              "  return element;\n",
              "}\n",
              "\n",
              "// Max number of bytes which will be uploaded at a time.\n",
              "const MAX_PAYLOAD_SIZE = 100 * 1024;\n",
              "\n",
              "function _uploadFiles(inputId, outputId) {\n",
              "  const steps = uploadFilesStep(inputId, outputId);\n",
              "  const outputElement = document.getElementById(outputId);\n",
              "  // Cache steps on the outputElement to make it available for the next call\n",
              "  // to uploadFilesContinue from Python.\n",
              "  outputElement.steps = steps;\n",
              "\n",
              "  return _uploadFilesContinue(outputId);\n",
              "}\n",
              "\n",
              "// This is roughly an async generator (not supported in the browser yet),\n",
              "// where there are multiple asynchronous steps and the Python side is going\n",
              "// to poll for completion of each step.\n",
              "// This uses a Promise to block the python side on completion of each step,\n",
              "// then passes the result of the previous step as the input to the next step.\n",
              "function _uploadFilesContinue(outputId) {\n",
              "  const outputElement = document.getElementById(outputId);\n",
              "  const steps = outputElement.steps;\n",
              "\n",
              "  const next = steps.next(outputElement.lastPromiseValue);\n",
              "  return Promise.resolve(next.value.promise).then((value) => {\n",
              "    // Cache the last promise value to make it available to the next\n",
              "    // step of the generator.\n",
              "    outputElement.lastPromiseValue = value;\n",
              "    return next.value.response;\n",
              "  });\n",
              "}\n",
              "\n",
              "/**\n",
              " * Generator function which is called between each async step of the upload\n",
              " * process.\n",
              " * @param {string} inputId Element ID of the input file picker element.\n",
              " * @param {string} outputId Element ID of the output display.\n",
              " * @return {!Iterable<!Object>} Iterable of next steps.\n",
              " */\n",
              "function* uploadFilesStep(inputId, outputId) {\n",
              "  const inputElement = document.getElementById(inputId);\n",
              "  inputElement.disabled = false;\n",
              "\n",
              "  const outputElement = document.getElementById(outputId);\n",
              "  outputElement.innerHTML = '';\n",
              "\n",
              "  const pickedPromise = new Promise((resolve) => {\n",
              "    inputElement.addEventListener('change', (e) => {\n",
              "      resolve(e.target.files);\n",
              "    });\n",
              "  });\n",
              "\n",
              "  const cancel = document.createElement('button');\n",
              "  inputElement.parentElement.appendChild(cancel);\n",
              "  cancel.textContent = 'Cancel upload';\n",
              "  const cancelPromise = new Promise((resolve) => {\n",
              "    cancel.onclick = () => {\n",
              "      resolve(null);\n",
              "    };\n",
              "  });\n",
              "\n",
              "  // Wait for the user to pick the files.\n",
              "  const files = yield {\n",
              "    promise: Promise.race([pickedPromise, cancelPromise]),\n",
              "    response: {\n",
              "      action: 'starting',\n",
              "    }\n",
              "  };\n",
              "\n",
              "  cancel.remove();\n",
              "\n",
              "  // Disable the input element since further picks are not allowed.\n",
              "  inputElement.disabled = true;\n",
              "\n",
              "  if (!files) {\n",
              "    return {\n",
              "      response: {\n",
              "        action: 'complete',\n",
              "      }\n",
              "    };\n",
              "  }\n",
              "\n",
              "  for (const file of files) {\n",
              "    const li = document.createElement('li');\n",
              "    li.append(span(file.name, {fontWeight: 'bold'}));\n",
              "    li.append(span(\n",
              "        `(${file.type || 'n/a'}) - ${file.size} bytes, ` +\n",
              "        `last modified: ${\n",
              "            file.lastModifiedDate ? file.lastModifiedDate.toLocaleDateString() :\n",
              "                                    'n/a'} - `));\n",
              "    const percent = span('0% done');\n",
              "    li.appendChild(percent);\n",
              "\n",
              "    outputElement.appendChild(li);\n",
              "\n",
              "    const fileDataPromise = new Promise((resolve) => {\n",
              "      const reader = new FileReader();\n",
              "      reader.onload = (e) => {\n",
              "        resolve(e.target.result);\n",
              "      };\n",
              "      reader.readAsArrayBuffer(file);\n",
              "    });\n",
              "    // Wait for the data to be ready.\n",
              "    let fileData = yield {\n",
              "      promise: fileDataPromise,\n",
              "      response: {\n",
              "        action: 'continue',\n",
              "      }\n",
              "    };\n",
              "\n",
              "    // Use a chunked sending to avoid message size limits. See b/62115660.\n",
              "    let position = 0;\n",
              "    do {\n",
              "      const length = Math.min(fileData.byteLength - position, MAX_PAYLOAD_SIZE);\n",
              "      const chunk = new Uint8Array(fileData, position, length);\n",
              "      position += length;\n",
              "\n",
              "      const base64 = btoa(String.fromCharCode.apply(null, chunk));\n",
              "      yield {\n",
              "        response: {\n",
              "          action: 'append',\n",
              "          file: file.name,\n",
              "          data: base64,\n",
              "        },\n",
              "      };\n",
              "\n",
              "      let percentDone = fileData.byteLength === 0 ?\n",
              "          100 :\n",
              "          Math.round((position / fileData.byteLength) * 100);\n",
              "      percent.textContent = `${percentDone}% done`;\n",
              "\n",
              "    } while (position < fileData.byteLength);\n",
              "  }\n",
              "\n",
              "  // All done.\n",
              "  yield {\n",
              "    response: {\n",
              "      action: 'complete',\n",
              "    }\n",
              "  };\n",
              "}\n",
              "\n",
              "scope.google = scope.google || {};\n",
              "scope.google.colab = scope.google.colab || {};\n",
              "scope.google.colab._files = {\n",
              "  _uploadFiles,\n",
              "  _uploadFilesContinue,\n",
              "};\n",
              "})(self);\n",
              "</script> "
            ]
          },
          "metadata": {}
        },
        {
          "output_type": "stream",
          "name": "stdout",
          "text": [
            "Saving ai_dev_productivity.csv to ai_dev_productivity.csv\n"
          ]
        }
      ]
    },
    {
      "cell_type": "code",
      "source": [
        "import pandas as pd\n",
        "productivity_data = pd.read_csv(\"ai_dev_productivity.csv\")"
      ],
      "metadata": {
        "id": "WG3z9oIwEvvd"
      },
      "execution_count": null,
      "outputs": []
    },
    {
      "cell_type": "code",
      "source": [
        "# Imports\n",
        "from sklearn.model_selection import train_test_split\n",
        "from sklearn.preprocessing import StandardScaler\n",
        "from sklearn.linear_model import LogisticRegression\n",
        "from sklearn.tree import DecisionTreeClassifier\n",
        "from sklearn.ensemble import RandomForestClassifier\n",
        "from sklearn.metrics import accuracy_score, classification_report, confusion_matrix"
      ],
      "metadata": {
        "id": "aRequDToEneg"
      },
      "execution_count": null,
      "outputs": []
    },
    {
      "cell_type": "code",
      "source": [
        "import seaborn as sns\n",
        "import matplotlib.pyplot as plt"
      ],
      "metadata": {
        "id": "BoRy9lHyErg7"
      },
      "execution_count": null,
      "outputs": []
    },
    {
      "cell_type": "markdown",
      "source": [
        "Checking Target Class Distribution"
      ],
      "metadata": {
        "id": "W4D32Snc8H1p"
      }
    },
    {
      "cell_type": "code",
      "source": [
        "# Check target class distribution\n",
        "productivity_data[\"task_success\"].value_counts(normalize=True)\n"
      ],
      "metadata": {
        "colab": {
          "base_uri": "https://localhost:8080/",
          "height": 178
        },
        "id": "frvFXEEinz4X",
        "outputId": "443376ee-3ac9-4924-f6e7-2766baf3a9b0"
      },
      "execution_count": null,
      "outputs": [
        {
          "output_type": "execute_result",
          "data": {
            "text/plain": [
              "task_success\n",
              "1    0.606\n",
              "0    0.394\n",
              "Name: proportion, dtype: float64"
            ],
            "text/html": [
              "<div>\n",
              "<style scoped>\n",
              "    .dataframe tbody tr th:only-of-type {\n",
              "        vertical-align: middle;\n",
              "    }\n",
              "\n",
              "    .dataframe tbody tr th {\n",
              "        vertical-align: top;\n",
              "    }\n",
              "\n",
              "    .dataframe thead th {\n",
              "        text-align: right;\n",
              "    }\n",
              "</style>\n",
              "<table border=\"1\" class=\"dataframe\">\n",
              "  <thead>\n",
              "    <tr style=\"text-align: right;\">\n",
              "      <th></th>\n",
              "      <th>proportion</th>\n",
              "    </tr>\n",
              "    <tr>\n",
              "      <th>task_success</th>\n",
              "      <th></th>\n",
              "    </tr>\n",
              "  </thead>\n",
              "  <tbody>\n",
              "    <tr>\n",
              "      <th>1</th>\n",
              "      <td>0.606</td>\n",
              "    </tr>\n",
              "    <tr>\n",
              "      <th>0</th>\n",
              "      <td>0.394</td>\n",
              "    </tr>\n",
              "  </tbody>\n",
              "</table>\n",
              "</div><br><label><b>dtype:</b> float64</label>"
            ]
          },
          "metadata": {},
          "execution_count": 7
        }
      ]
    },
    {
      "cell_type": "markdown",
      "source": [
        "Drop Redundant Features"
      ],
      "metadata": {
        "id": "L44nKrga8R-8"
      }
    },
    {
      "cell_type": "code",
      "source": [
        "# Drop redundant features\n",
        "X = productivity_data.drop([\"task_success\", \"coffee_intake_mg\", \"cognitive_load\"], axis=1)\n",
        "y = productivity_data[\"task_success\"]\n"
      ],
      "metadata": {
        "id": "8rHBMZGOlwjD"
      },
      "execution_count": null,
      "outputs": []
    },
    {
      "cell_type": "markdown",
      "source": [
        "Train-Test Split"
      ],
      "metadata": {
        "id": "1vULf-D28bJB"
      }
    },
    {
      "cell_type": "code",
      "source": [
        "# Train-Test Split\n",
        "X_train, X_test, y_train, y_test = train_test_split(X, y, test_size=0.2, random_state=42)\n"
      ],
      "metadata": {
        "id": "zghjOiVykTe9"
      },
      "execution_count": null,
      "outputs": []
    },
    {
      "cell_type": "markdown",
      "source": [
        "Feature Scaling"
      ],
      "metadata": {
        "id": "OmpmvKyF8gJH"
      }
    },
    {
      "cell_type": "code",
      "source": [
        "# Feature Scaling\n",
        "scaler = StandardScaler()\n",
        "X_train_scaled = scaler.fit_transform(X_train)\n",
        "X_test_scaled = scaler.transform(X_test)"
      ],
      "metadata": {
        "id": "bDjTWeJll3LC"
      },
      "execution_count": null,
      "outputs": []
    },
    {
      "cell_type": "markdown",
      "source": [
        "1.2 Modeling"
      ],
      "metadata": {
        "id": "CbTA8mKd8jBv"
      }
    },
    {
      "cell_type": "code",
      "source": [
        "# Models to try\n",
        "models = {\n",
        "    \"Logistic Regression\": LogisticRegression(),\n",
        "    \"Decision Tree\": DecisionTreeClassifier(random_state=42),\n",
        "    \"Random Forest\": RandomForestClassifier(random_state=42)\n",
        "}"
      ],
      "metadata": {
        "id": "s0nt1ScJl841"
      },
      "execution_count": null,
      "outputs": []
    },
    {
      "cell_type": "markdown",
      "source": [
        "Train And Evaluate"
      ],
      "metadata": {
        "id": "eqfAis0m8rD-"
      }
    },
    {
      "cell_type": "code",
      "source": [
        "# Train and evaluate\n",
        "for name, model in models.items():\n",
        "    print(f\"\\n--- {name} ---\")\n",
        "    model.fit(X_train_scaled, y_train)\n",
        "    y_pred = model.predict(X_test_scaled)\n",
        "\n",
        "    print(\"Accuracy:\", accuracy_score(y_test, y_pred))\n",
        "    print(\"Confusion Matrix:\\n\", confusion_matrix(y_test, y_pred))\n",
        "    print(\"Classification Report:\\n\", classification_report(y_test, y_pred))"
      ],
      "metadata": {
        "colab": {
          "base_uri": "https://localhost:8080/"
        },
        "id": "1XmqiwZNmEI7",
        "outputId": "0f8937fa-3a48-4b9d-e5a0-18512a340e61"
      },
      "execution_count": null,
      "outputs": [
        {
          "output_type": "stream",
          "name": "stdout",
          "text": [
            "\n",
            "--- Logistic Regression ---\n",
            "Accuracy: 0.86\n",
            "Confusion Matrix:\n",
            " [[29  5]\n",
            " [ 9 57]]\n",
            "Classification Report:\n",
            "               precision    recall  f1-score   support\n",
            "\n",
            "           0       0.76      0.85      0.81        34\n",
            "           1       0.92      0.86      0.89        66\n",
            "\n",
            "    accuracy                           0.86       100\n",
            "   macro avg       0.84      0.86      0.85       100\n",
            "weighted avg       0.87      0.86      0.86       100\n",
            "\n",
            "\n",
            "--- Decision Tree ---\n",
            "Accuracy: 0.96\n",
            "Confusion Matrix:\n",
            " [[33  1]\n",
            " [ 3 63]]\n",
            "Classification Report:\n",
            "               precision    recall  f1-score   support\n",
            "\n",
            "           0       0.92      0.97      0.94        34\n",
            "           1       0.98      0.95      0.97        66\n",
            "\n",
            "    accuracy                           0.96       100\n",
            "   macro avg       0.95      0.96      0.96       100\n",
            "weighted avg       0.96      0.96      0.96       100\n",
            "\n",
            "\n",
            "--- Random Forest ---\n",
            "Accuracy: 0.98\n",
            "Confusion Matrix:\n",
            " [[33  1]\n",
            " [ 1 65]]\n",
            "Classification Report:\n",
            "               precision    recall  f1-score   support\n",
            "\n",
            "           0       0.97      0.97      0.97        34\n",
            "           1       0.98      0.98      0.98        66\n",
            "\n",
            "    accuracy                           0.98       100\n",
            "   macro avg       0.98      0.98      0.98       100\n",
            "weighted avg       0.98      0.98      0.98       100\n",
            "\n"
          ]
        }
      ]
    },
    {
      "cell_type": "markdown",
      "source": [
        "1.3 Feature Importance"
      ],
      "metadata": {
        "id": "C49YrMSwF1uB"
      }
    },
    {
      "cell_type": "markdown",
      "source": [
        "Plot confusion matrix heatmap for best model"
      ],
      "metadata": {
        "id": "swcE46LA8ya0"
      }
    },
    {
      "cell_type": "code",
      "source": [
        "# Optional: Plot confusion matrix heatmap for best model\n",
        "best_model = RandomForestClassifier(random_state=42)\n",
        "best_model.fit(X_train_scaled, y_train)\n",
        "y_pred_best = best_model.predict(X_test_scaled)\n",
        "\n",
        "plt.figure(figsize=(6,4))\n",
        "sns.heatmap(confusion_matrix(y_test, y_pred_best), annot=True, fmt='d', cmap='Blues')\n",
        "plt.title(\"Confusion Matrix - Random Forest\")\n",
        "plt.xlabel(\"Predicted\")\n",
        "plt.ylabel(\"Actual\")\n",
        "plt.show()"
      ],
      "metadata": {
        "colab": {
          "base_uri": "https://localhost:8080/",
          "height": 410
        },
        "id": "_eroM1wPmS3A",
        "outputId": "814b7aca-9cab-4dd9-cdc8-07447b4b45f5"
      },
      "execution_count": null,
      "outputs": [
        {
          "output_type": "display_data",
          "data": {
            "text/plain": [
              "<Figure size 600x400 with 2 Axes>"
            ],
            "image/png": "[encoded data removed]"
          },
          "metadata": {}
        }
      ]
    },
    {
      "cell_type": "markdown",
      "source": [
        "Evaluating Important Feature"
      ],
      "metadata": {
        "id": "I92ljIoe88R_"
      }
    },
    {
      "cell_type": "code",
      "source": [
        "import matplotlib.pyplot as plt\n",
        "import seaborn as sns\n",
        "\n",
        "# After fitting random forest\n",
        "rf = RandomForestClassifier()\n",
        "rf.fit(X_train_scaled, y_train)\n",
        "\n",
        "importances = rf.feature_importances_\n",
        "feature_names = X.columns\n",
        "\n",
        "# Plot\n",
        "plt.figure(figsize=(8,6))\n",
        "sns.barplot(x=importances, y=feature_names)\n",
        "plt.title(\"Feature Importances (Random Forest)\")\n",
        "plt.show()\n"
      ],
      "metadata": {
        "colab": {
          "base_uri": "https://localhost:8080/",
          "height": 545
        },
        "id": "omYdOOyzmd7Q",
        "outputId": "ec2776cb-f609-49fd-e9ee-01ec1922a093"
      },
      "execution_count": null,
      "outputs": [
        {
          "output_type": "display_data",
          "data": {
            "text/plain": [
              "<Figure size 800x600 with 1 Axes>"
            ],
            "image/png": "[encoded data removed]"
          },
          "metadata": {}
        }
      ]
    },
    {
      "cell_type": "code",
      "source": [
        "from sklearn.model_selection import cross_val_score\n",
        "\n",
        "scores = cross_val_score(RandomForestClassifier(), X_train_scaled, y_train, cv=5)\n",
        "print(\"CV Accuracy:\", scores.mean())\n"
      ],
      "metadata": {
        "colab": {
          "base_uri": "https://localhost:8080/"
        },
        "id": "4KZOhqkyqLRn",
        "outputId": "498f73e0-95cd-4f88-df62-c6224c982221"
      },
      "execution_count": null,
      "outputs": [
        {
          "output_type": "stream",
          "name": "stdout",
          "text": [
            "CV Accuracy: 0.96\n"
          ]
        }
      ]
    },
    {
      "cell_type": "markdown",
      "source": [
        "Visualizing the top feature"
      ],
      "metadata": {
        "id": "fDQnpWfLqk1h"
      }
    },
    {
      "cell_type": "code",
      "source": [
        "# Create DataFrame for importances\n",
        "feat_imp_df = pd.DataFrame({\n",
        "    'Feature': feature_names,\n",
        "    'Importance': importances\n",
        "}).sort_values(by='Importance', ascending=False)\n",
        "\n",
        "# Plot sorted\n",
        "plt.figure(figsize=(8,6))\n",
        "sns.barplot(x='Importance', y='Feature', data=feat_imp_df, palette='viridis')\n",
        "plt.title(\"Top Features Affecting Task Success\")\n",
        "plt.tight_layout()\n",
        "plt.show()\n"
      ],
      "metadata": {
        "colab": {
          "base_uri": "https://localhost:8080/",
          "height": 694
        },
        "id": "57C8ZEQXqtBs",
        "outputId": "4d6b9936-365a-4209-d141-1101861cce2a"
      },
      "execution_count": null,
      "outputs": [
        {
          "output_type": "stream",
          "name": "stderr",
          "text": [
            "<ipython-input-16-630d8d0b46a2>:9: FutureWarning: \n",
            "\n",
            "Passing `palette` without assigning `hue` is deprecated and will be removed in v0.14.0. Assign the `y` variable to `hue` and set `legend=False` for the same effect.\n",
            "\n",
            "  sns.barplot(x='Importance', y='Feature', data=feat_imp_df, palette='viridis')\n"
          ]
        },
        {
          "output_type": "display_data",
          "data": {
            "text/plain": [
              "<Figure size 800x600 with 1 Axes>"
            ],
            "image/png": "[encoded data removed]"
          },
          "metadata": {}
        }
      ]
    },
    {
      "cell_type": "markdown",
      "source": [
        " Calculate and Compare Success vs Failure Rate\n",
        "\n"
      ],
      "metadata": {
        "id": "Q8g26lW-U8p_"
      }
    },
    {
      "cell_type": "code",
      "source": [
        "# 1.1 Calculating success and failure rates\n",
        "success_rate = (productivity_data[\"task_success\"] == 1).mean()\n",
        "failure_rate = (productivity_data[\"task_success\"] == 0).mean()\n",
        "\n",
        "print(f\"Success Rate: {success_rate:.2%}\")\n",
        "print(f\"Failure Rate: {failure_rate:.2%}\")\n",
        "\n"
      ],
      "metadata": {
        "colab": {
          "base_uri": "https://localhost:8080/"
        },
        "id": "LBW3e3x9U6_K",
        "outputId": "d2d6d50e-a3ef-45c0-c985-775edc888ac8"
      },
      "execution_count": null,
      "outputs": [
        {
          "output_type": "stream",
          "name": "stdout",
          "text": [
            "✅ Success Rate: 60.60%\n",
            "❌ Failure Rate: 39.40%\n"
          ]
        }
      ]
    },
    {
      "cell_type": "markdown",
      "source": [
        "Visual Comparison with Bar Chart"
      ],
      "metadata": {
        "id": "3OfLYLuhsCuM"
      }
    },
    {
      "cell_type": "code",
      "source": [
        "# 2.1 Bar chart for comparison\n",
        "import matplotlib.pyplot as plt\n",
        "import seaborn as sns\n",
        "\n",
        "rates = pd.DataFrame({\n",
        "    'Outcome': ['Success', 'Failure'],\n",
        "    'Rate': [success_rate, failure_rate]\n",
        "})\n",
        "\n",
        "plt.figure(figsize=(6, 4))\n",
        "sns.barplot(x='Outcome', y='Rate', data=rates, palette=['#4CAF50', '#F44336'])\n",
        "plt.title(\"Comparison: Task Success vs Failure Rate\")\n",
        "plt.ylim(0, 1)\n",
        "plt.ylabel(\"Rate\")\n",
        "plt.grid(axis='y', linestyle='--', alpha=0.7)\n",
        "plt.tight_layout()\n",
        "plt.show()\n"
      ],
      "metadata": {
        "colab": {
          "base_uri": "https://localhost:8080/",
          "height": 494
        },
        "id": "8zjraOCBsGIe",
        "outputId": "e60393bb-a592-4119-d232-6e18694b72a2"
      },
      "execution_count": null,
      "outputs": [
        {
          "output_type": "stream",
          "name": "stderr",
          "text": [
            "<ipython-input-27-22a450734f75>:11: FutureWarning: \n",
            "\n",
            "Passing `palette` without assigning `hue` is deprecated and will be removed in v0.14.0. Assign the `x` variable to `hue` and set `legend=False` for the same effect.\n",
            "\n",
            "  sns.barplot(x='Outcome', y='Rate', data=rates, palette=['#4CAF50', '#F44336'])\n"
          ]
        },
        {
          "output_type": "display_data",
          "data": {
            "text/plain": [
              "<Figure size 600x400 with 1 Axes>"
            ],
            "image/png": "[encoded data removed]"
          },
          "metadata": {}
        }
      ]
    },
    {
      "cell_type": "markdown",
      "source": [
        "Computing Success and Failure Rates\n",
        "\n"
      ],
      "metadata": {
        "id": "rHTn9IpWs8Lr"
      }
    },
    {
      "cell_type": "code",
      "source": [
        "# Compute success and failure rates\n",
        "success_rate = (productivity_data[\"task_success\"] == 1).mean()\n",
        "failure_rate = (productivity_data[\"task_success\"] == 0).mean()\n",
        "\n",
        "print(f\"Success Rate: {success_rate:.2%}\")\n",
        "print(f\"Failure Rate: {failure_rate:.2%}\")\n"
      ],
      "metadata": {
        "colab": {
          "base_uri": "https://localhost:8080/"
        },
        "id": "cFSxQzQ7tArt",
        "outputId": "c3c39e43-4150-44c4-8e19-02104b23591d"
      },
      "execution_count": null,
      "outputs": [
        {
          "output_type": "stream",
          "name": "stdout",
          "text": [
            "Success Rate: 60.60%\n",
            "Failure Rate: 39.40%\n"
          ]
        }
      ]
    },
    {
      "cell_type": "markdown",
      "source": [
        "3. Preparing Data for Modeling\n",
        "\n"
      ],
      "metadata": {
        "id": "k77MBwJipul2"
      }
    },
    {
      "cell_type": "markdown",
      "source": [
        "##  Summary: Modeling and Evaluation of Developer Productivity\n",
        "\n",
        "###  Dataset:\n",
        "- **Source:** `ai_dev_productivity.csv`\n",
        "- **Target Variable:** `task_success` (Binary classification: Success or Not)\n",
        "- **Features Used:**\n",
        "  - `coding_hours`\n",
        "  - `sleep_hours`\n",
        "  - `meeting_hours`\n",
        "  - `distractions`\n",
        "- *(Dropped: `coffee_intake_mg`, `cognitive_load` due to multicollinearity)*\n",
        "\n",
        "---\n",
        "\n",
        "###  Models Tested:\n",
        "| Model                | Accuracy | Notes                                     |\n",
        "|---------------------|----------|-------------------------------------------|\n",
        "| Logistic Regression | 0.86     | High precision for successful tasks       |\n",
        "| Decision Tree        | 0.96     | Excellent performance, slight overfitting |\n",
        "| Random Forest        | **0.98** | Best overall performance                  |\n",
        "\n",
        "---\n",
        "\n",
        "###  Evaluation Metrics (Random Forest):\n",
        "- **Confusion Matrix:**\n",
        "[[33 1]\n",
        "[ 1 65]]\n",
        "- **Classification Report:**\n",
        "- Precision: 0.97 (Class 0), 0.98 (Class 1)\n",
        "- Recall: 0.97 (Class 0), 0.98 (Class 1)\n",
        "- F1-score: 0.98 overall\n",
        "- **Cross-Validation Accuracy (5-fold):** ~0.95\n",
        "\n",
        "---\n",
        "\n",
        "###  Feature Importance (Random Forest):\n",
        "Top contributing features:\n",
        "1. **`coding_hours`** – Most impactful\n",
        "2. `sleep_hours`\n",
        "3. `meeting_hours`\n",
        "\n",
        "> Features like `coffee_intake_mg` and `cognitive_load` were dropped to avoid redundancy and improve model generalization.\n",
        "\n",
        "---\n",
        "\n",
        "###  Final Insight:\n",
        "The Random Forest model achieved the highest accuracy (0.98) and provided explainable results. It highlights that **productive coding hours** and **adequate sleep** are key factors in predicting developer task success.\n",
        "\n",
        "###  Finding / Suggestion:\n",
        "The model reveals that coding_hours and sleep_hours are the most important predictors of task success — emphasizing the value of deep work and rest in enhancing software productivity.\n",
        "\n",
        "###  One-Line Insight :\n",
        "**\"More sleep and deep work, less chaos — a recipe for coding success.\"**"
      ],
      "metadata": {
        "id": "kj-4MREU-owp"
      }
    },
    {
      "cell_type": "markdown",
      "source": [],
      "metadata": {
        "id": "aJj5josSqa7P"
      }
    }
  ]
}